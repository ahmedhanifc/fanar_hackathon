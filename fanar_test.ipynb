{
 "cells": [
  {
   "cell_type": "code",
   "execution_count": 5,
   "id": "2a9e9682",
   "metadata": {},
   "outputs": [],
   "source": [
    "import requests\n",
    "import json"
   ]
  },
  {
   "cell_type": "code",
   "execution_count": 11,
   "id": "a0a205b9",
   "metadata": {},
   "outputs": [
    {
     "name": "stdout",
     "output_type": "stream",
     "text": [
      "Success! Response from Fanar:\n",
      "{'id': '43a4d9c0-8a52-45ea-9966-04e8da7c16d6', 'choices': [{'finish_reason': 'stop', 'index': 0, 'logprobs': None, 'message': {'content': \"I'm so sorry to hear that you're going through a tough time, I'd be happy to help you explore your options. Could you please tell me more about the specific issue or problem you're facing? The more details you provide, the better I can assist you in understanding your rights and available solutions. Remember, it's important to feel heard and supported during this process.\", 'role': 'assistant', 'references': None}}], 'created': 1750411924, 'model': '/fanar/Fanar-C-1-8.7B-20250313', 'object': 'chat.completion', 'usage': {'completion_tokens': 82, 'prompt_tokens': 33, 'total_tokens': 115, 'completion_tokens_details': None, 'prompt_tokens_details': None}}\n"
     ]
    }
   ],
   "source": [
    "API_KEY = \"fmFrMl3wHnB9SFnb8bzxNFpGCVE18Wcz\"\n",
    "CHAT_URL = \"https://api.fanar.qa/v1/chat/completions\"\n",
    "\n",
    "headers = {\n",
    "    \"Authorization\": f\"Bearer {API_KEY}\",\n",
    "    \"Content-Type\": \"application/json\"\n",
    "}\n",
    "\n",
    "# --- THE FIX IS HERE ---\n",
    "# Change \"Fanar-Prime\" to the correct API model name \"Fanar-C-1-8.7B\"\n",
    "payload = {\n",
    "    \"model\": \"Fanar-C-1-8.7B\", # Corrected model name\n",
    "    \"messages\": [\n",
    "        {\"role\": \"system\", \"content\": \"You are a helpful and empathetic legal assistant.\"},\n",
    "        {\"role\": \"user\", \"content\": \"I am in a difficult situation and need to know my options.\"}\n",
    "    ]\n",
    "}\n",
    "# --------------------\n",
    "\n",
    "response = requests.post(CHAT_URL, headers=headers, data=json.dumps(payload))\n",
    "\n",
    "# Check the response\n",
    "if response.status_code == 200:\n",
    "    print(\"Success! Response from Fanar:\")\n",
    "    print(response.json())\n",
    "else:\n",
    "    print(f\"Error: Received status code {response.status_code}\")\n",
    "    print(f\"Response: {response.text}\")\n"
   ]
  },
  {
   "cell_type": "code",
   "execution_count": 18,
   "id": "aeaa0fb6",
   "metadata": {},
   "outputs": [
    {
     "data": {
      "text/plain": [
       "'{\"id\": \"43a4d9c0-8a52-45ea-9966-04e8da7c16d6\", \"choices\": [{\"finish_reason\": \"stop\", \"index\": 0, \"logprobs\": null, \"message\": {\"content\": \"I\\'m so sorry to hear that you\\'re going through a tough time, I\\'d be happy to help you explore your options. Could you please tell me more about the specific issue or problem you\\'re facing? The more details you provide, the better I can assist you in understanding your rights and available solutions. Remember, it\\'s important to feel heard and supported during this process.\", \"role\": \"assistant\", \"references\": null}}], \"created\": 1750411924, \"model\": \"/fanar/Fanar-C-1-8.7B-20250313\", \"object\": \"chat.completion\", \"usage\": {\"completion_tokens\": 82, \"prompt_tokens\": 33, \"total_tokens\": 115, \"completion_tokens_details\": null, \"prompt_tokens_details\": null}}'"
      ]
     },
     "execution_count": 18,
     "metadata": {},
     "output_type": "execute_result"
    }
   ],
   "source": [
    "response.text"
   ]
  },
  {
   "cell_type": "code",
   "execution_count": null,
   "id": "72fe3738",
   "metadata": {},
   "outputs": [],
   "source": []
  }
 ],
 "metadata": {
  "kernelspec": {
   "display_name": "ds1",
   "language": "python",
   "name": "python3"
  },
  "language_info": {
   "codemirror_mode": {
    "name": "ipython",
    "version": 3
   },
   "file_extension": ".py",
   "mimetype": "text/x-python",
   "name": "python",
   "nbconvert_exporter": "python",
   "pygments_lexer": "ipython3",
   "version": "3.11.13"
  }
 },
 "nbformat": 4,
 "nbformat_minor": 5
}
